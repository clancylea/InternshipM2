{
 "cells": [
  {
   "cell_type": "markdown",
   "metadata": {},
   "source": [
    "# A very simple recurrent ring network\n",
    "L'idée est de faire un petit ring tout simple qui assemble différentes cellules simples de V1 pour jouer avec ses dynamiques et pourquoi pas lui faire apprendre une tuning curve d'entrée"
   ]
  },
  {
   "cell_type": "code",
   "execution_count": 1,
   "metadata": {
    "ExecuteTime": {
     "end_time": "2018-11-19T17:29:12.850833Z",
     "start_time": "2018-11-19T17:29:12.544069Z"
    }
   },
   "outputs": [],
   "source": [
    "import numpy as np\n",
    "import matplotlib.pyplot as plt\n",
    "from LogGabor import LogGabor\n",
    "import Spiking_LGN as SpiLGN\n",
    "import datetime\n",
    "from tqdm import tqdm"
   ]
  },
  {
   "cell_type": "code",
   "execution_count": 2,
   "metadata": {
    "ExecuteTime": {
     "end_time": "2018-11-19T17:29:22.123515Z",
     "start_time": "2018-11-19T17:29:12.852252Z"
    }
   },
   "outputs": [
    {
     "ename": "FileNotFoundError",
     "evalue": "[Errno 2] No such file or directory: './output/Use_this_one.npz'",
     "output_type": "error",
     "traceback": [
      "\u001b[0;31m---------------------------------------------------------------------------\u001b[0m",
      "\u001b[0;31mFileNotFoundError\u001b[0m                         Traceback (most recent call last)",
      "\u001b[0;32m<ipython-input-2-1a9f683d7503>\u001b[0m in \u001b[0;36m<module>\u001b[0;34m\u001b[0m\n\u001b[0;32m----> 1\u001b[0;31m \u001b[0mload_npz\u001b[0m \u001b[0;34m=\u001b[0m \u001b[0mnp\u001b[0m\u001b[0;34m.\u001b[0m\u001b[0mload\u001b[0m\u001b[0;34m(\u001b[0m\u001b[0;34m'./output/Use_this_one.npz'\u001b[0m\u001b[0;34m)\u001b[0m \u001b[0;31m#what a great, descriptive filename\u001b[0m\u001b[0;34m\u001b[0m\u001b[0;34m\u001b[0m\u001b[0m\n\u001b[0m\u001b[1;32m      2\u001b[0m \u001b[0mload_arr\u001b[0m \u001b[0;34m=\u001b[0m \u001b[0mload_npz\u001b[0m\u001b[0;34m[\u001b[0m\u001b[0;34m'arr_0.npy'\u001b[0m\u001b[0;34m]\u001b[0m\u001b[0;34m\u001b[0m\u001b[0;34m\u001b[0m\u001b[0m\n",
      "\u001b[0;32m/usr/local/lib/python3.7/site-packages/numpy/lib/npyio.py\u001b[0m in \u001b[0;36mload\u001b[0;34m(file, mmap_mode, allow_pickle, fix_imports, encoding)\u001b[0m\n\u001b[1;32m    382\u001b[0m     \u001b[0mown_fid\u001b[0m \u001b[0;34m=\u001b[0m \u001b[0;32mFalse\u001b[0m\u001b[0;34m\u001b[0m\u001b[0;34m\u001b[0m\u001b[0m\n\u001b[1;32m    383\u001b[0m     \u001b[0;32mif\u001b[0m \u001b[0misinstance\u001b[0m\u001b[0;34m(\u001b[0m\u001b[0mfile\u001b[0m\u001b[0;34m,\u001b[0m \u001b[0mbasestring\u001b[0m\u001b[0;34m)\u001b[0m\u001b[0;34m:\u001b[0m\u001b[0;34m\u001b[0m\u001b[0;34m\u001b[0m\u001b[0m\n\u001b[0;32m--> 384\u001b[0;31m         \u001b[0mfid\u001b[0m \u001b[0;34m=\u001b[0m \u001b[0mopen\u001b[0m\u001b[0;34m(\u001b[0m\u001b[0mfile\u001b[0m\u001b[0;34m,\u001b[0m \u001b[0;34m\"rb\"\u001b[0m\u001b[0;34m)\u001b[0m\u001b[0;34m\u001b[0m\u001b[0;34m\u001b[0m\u001b[0m\n\u001b[0m\u001b[1;32m    385\u001b[0m         \u001b[0mown_fid\u001b[0m \u001b[0;34m=\u001b[0m \u001b[0;32mTrue\u001b[0m\u001b[0;34m\u001b[0m\u001b[0;34m\u001b[0m\u001b[0m\n\u001b[1;32m    386\u001b[0m     \u001b[0;32melif\u001b[0m \u001b[0mis_pathlib_path\u001b[0m\u001b[0;34m(\u001b[0m\u001b[0mfile\u001b[0m\u001b[0;34m)\u001b[0m\u001b[0;34m:\u001b[0m\u001b[0;34m\u001b[0m\u001b[0;34m\u001b[0m\u001b[0m\n",
      "\u001b[0;31mFileNotFoundError\u001b[0m: [Errno 2] No such file or directory: './output/Use_this_one.npz'"
     ]
    }
   ],
   "source": [
    "load_npz = np.load('./output/Use_this_one.npz') #what a great, descriptive filename\n",
    "load_arr = load_npz['arr_0.npy']"
   ]
  },
  {
   "cell_type": "code",
   "execution_count": null,
   "metadata": {
    "ExecuteTime": {
     "end_time": "2018-11-19T17:29:22.127565Z",
     "start_time": "2018-11-19T17:29:22.124617Z"
    }
   },
   "outputs": [],
   "source": [
    "load_arr.shape\n",
    "\n",
    "test_arr = load_arr.copy()\n",
    "test_arr = test_arr.swapaxes(0,1)\n",
    "\n",
    "print('Swapped array shape', test_arr.shape)\n",
    "total_neurons = test_arr.shape[0] * test_arr.shape[1]\n",
    "print('Total V1 Ring Neurons :', total_neurons)"
   ]
  },
  {
   "cell_type": "code",
   "execution_count": null,
   "metadata": {
    "ExecuteTime": {
     "end_time": "2018-11-19T17:29:22.900972Z",
     "start_time": "2018-11-19T17:29:22.129321Z"
    }
   },
   "outputs": [],
   "source": [
    "import pyNN.nest as sim\n",
    "from pyNN.random import RandomDistribution as rnd\n",
    "from pyNN.parameters import Sequence\n",
    "from pyNN.utility.plotting import Figure, Panel\n",
    "\n",
    "##########\n",
    "# Params #\n",
    "##########\n",
    "neuron_params = {'cm': .5, #nF - McCormick\n",
    "                 'e_rev_E': 0.0, #mV - McCormick but default values\n",
    "                 'e_rev_I': -70.0, #mV - McCormick but default values\n",
    "                 'tau_m': 30, #ms - Markram\n",
    "                 'tau_refrac': 1.5, #ms - McCormick\n",
    "                 'tau_syn_E': 0.25, #ms -McCormick\n",
    "                 'tau_syn_I': 0.75, #ms - McCormick\n",
    "                 'v_reset': -56.5, #mV - McCormick\n",
    "                 'v_rest': -73.6, #mV - McCormick\n",
    "                 'v_thresh': -52.5 #mV - McCormick #mV - McCormick\n",
    "                    }\n",
    "\n",
    "gain = .1\n",
    "injection_sampling_rate = 1\n",
    "total_time = 1000\n",
    "\n",
    "current_times = np.linspace(0,total_time,total_time/injection_sampling_rate)\n",
    "\n",
    "sim.setup(timestep=0.1)\n",
    "simple_cells = sim.Population(total_neurons, sim.IF_cond_alpha(**neuron_params),\n",
    "                        initial_values={\"v\": neuron_params[\"v_reset\"]}, label=\"simple_cells\")"
   ]
  },
  {
   "cell_type": "code",
   "execution_count": null,
   "metadata": {
    "ExecuteTime": {
     "end_time": "2018-11-19T17:29:38.464025Z",
     "start_time": "2018-11-19T17:29:22.902465Z"
    }
   },
   "outputs": [],
   "source": [
    "neuron_iterator = 0\n",
    "\n",
    "with tqdm(total = total_neurons, desc = 'LGN is communicating with V1') as progress_bar :\n",
    "    for positions in test_arr:\n",
    "        for orientations in positions :\n",
    "            #injecting all ON LGN current\n",
    "            for inputs in orientations[0]:\n",
    "                current_level = inputs[::injection_sampling_rate]\n",
    "                current_level = np.asarray(current_level)\n",
    "\n",
    "                current_input = sim.StepCurrentSource(times = current_times,\n",
    "                                                 amplitudes = current_level*gain)\n",
    "                current_input.inject_into(simple_cells[neuron_iterator:neuron_iterator+1])\n",
    "                current_input.record()\n",
    "                \n",
    "            #injecting all OFF LGN current\n",
    "            for inputs in orientations[1]:\n",
    "                current_level = inputs[::injection_sampling_rate]\n",
    "                current_level = np.asarray(current_level)\n",
    "\n",
    "                current_input = sim.StepCurrentSource(times = current_times,\n",
    "                                                 amplitudes = current_level*gain)\n",
    "                current_input.inject_into(simple_cells[neuron_iterator:neuron_iterator+1])\n",
    "                current_input.record()\n",
    "                \n",
    "            #moving on to next V1 neuron \n",
    "            neuron_iterator +=1\n",
    "            progress_bar.update(1)"
   ]
  },
  {
   "cell_type": "code",
   "execution_count": null,
   "metadata": {
    "ExecuteTime": {
     "end_time": "2018-11-19T17:30:25.643144Z",
     "start_time": "2018-11-19T17:29:38.465310Z"
    }
   },
   "outputs": [],
   "source": [
    "simple_cells.record(['spikes', 'v'])\n",
    "sim.run(total_time)\n",
    "sim.end()"
   ]
  },
  {
   "cell_type": "code",
   "execution_count": null,
   "metadata": {
    "ExecuteTime": {
     "end_time": "2018-11-19T17:30:26.941093Z",
     "start_time": "2018-11-19T17:30:25.644592Z"
    }
   },
   "outputs": [],
   "source": [
    "v1_data = simple_cells.get_data().segments[0]\n",
    "v1_voltage = v1_data.analogsignals[0]"
   ]
  },
  {
   "cell_type": "markdown",
   "metadata": {},
   "source": [
    "# Simulation is done\n",
    "Now we have N neurons and we have looped through positions then orientations, so we have :"
   ]
  },
  {
   "cell_type": "code",
   "execution_count": null,
   "metadata": {
    "ExecuteTime": {
     "end_time": "2018-11-19T17:30:26.946110Z",
     "start_time": "2018-11-19T17:30:26.942645Z"
    }
   },
   "outputs": [],
   "source": [
    "test_arr.shape[0]"
   ]
  },
  {
   "cell_type": "markdown",
   "metadata": {},
   "source": [
    "groups of positions, each of which contains"
   ]
  },
  {
   "cell_type": "code",
   "execution_count": null,
   "metadata": {
    "ExecuteTime": {
     "end_time": "2018-11-19T17:30:26.949665Z",
     "start_time": "2018-11-19T17:30:26.947337Z"
    }
   },
   "outputs": [],
   "source": [
    "test_arr.shape[1]"
   ]
  },
  {
   "cell_type": "markdown",
   "metadata": {},
   "source": [
    "neurons, each one sensitive for a particular orientation. We double check that the total is N :"
   ]
  },
  {
   "cell_type": "code",
   "execution_count": null,
   "metadata": {
    "ExecuteTime": {
     "end_time": "2018-11-19T17:30:26.953278Z",
     "start_time": "2018-11-19T17:30:26.950780Z"
    }
   },
   "outputs": [],
   "source": [
    "test_arr.shape[0] * test_arr.shape[1]"
   ]
  },
  {
   "cell_type": "markdown",
   "metadata": {},
   "source": [
    "# Plotting\n",
    "Now we can plot one single positions and check its orientation informations :"
   ]
  },
  {
   "cell_type": "code",
   "execution_count": null,
   "metadata": {
    "ExecuteTime": {
     "end_time": "2018-11-19T17:30:31.267304Z",
     "start_time": "2018-11-19T17:30:26.954340Z"
    }
   },
   "outputs": [],
   "source": [
    "#NEO's arrays are weirdly shaped, we have to transpose them\n",
    "fig, ax = plt.subplots(figsize = (16,10))\n",
    "colors = plt.cm.rainbow(np.linspace(.1, 1, 12))\n",
    "\n",
    "neuron_iterator = 0\n",
    "position = 3\n",
    "\n",
    "for orientations in test_arr[position]:\n",
    "    index = neuron_iterator + (position * test_arr.shape[0]) #we're skipping the other positions\n",
    "\n",
    "    ax.plot(v1_voltage.T[index],\n",
    "            color=colors[neuron_iterator],\n",
    "            label='%.1f°' % (neuron_iterator*(np.pi/12)*180/np.pi),\n",
    "            alpha = 1)\n",
    "        \n",
    "    for spikes in np.asarray(v1_data.spiketrains[index]):\n",
    "        plt.plot([ spikes*10,spikes*10 ] , [v1_voltage.T[index][int(spikes)] , 20],\n",
    "        color=colors[neuron_iterator])\n",
    "\n",
    "    neuron_iterator +=1\n",
    "\n",
    "\n",
    "plt.legend(title = 'Preferred\\norientation')\n",
    "plt.title(\"C'est joli mais pas très informatif\")\n",
    "plt.show()"
   ]
  },
  {
   "cell_type": "markdown",
   "metadata": {},
   "source": [
    "# C'est pas très lisible, on peut faire un peu mieux avec un rasterplot"
   ]
  },
  {
   "cell_type": "code",
   "execution_count": null,
   "metadata": {
    "ExecuteTime": {
     "end_time": "2018-11-19T17:30:32.018976Z",
     "start_time": "2018-11-19T17:30:31.268252Z"
    }
   },
   "outputs": [],
   "source": [
    "fig, ax = plt.subplots(figsize=(10, 7))\n",
    "\n",
    "neuron_iterator = 0\n",
    "total_spikes, total_spiking_neurons = 0, 0\n",
    "for positions in test_arr:\n",
    "    colors = plt.cm.Blues(np.linspace(.4, 1, 12))\n",
    "    for i, orientations in enumerate(positions):\n",
    "        ax.scatter(v1_data.spiketrains[neuron_iterator],\n",
    "                   np.full_like(\n",
    "                       v1_data.spiketrains[neuron_iterator], neuron_iterator),\n",
    "                   s=2, color=colors[i],\n",
    "                   label='%.1f°' % (i*(np.pi/12)*180/np.pi) if neuron_iterator < 12 else '')\n",
    "        total_spikes += len(v1_data.spiketrains[neuron_iterator])\n",
    "        if len(v1_data.spiketrains[neuron_iterator]) > 0:\n",
    "            total_spiking_neurons += 1\n",
    "        neuron_iterator += 1\n",
    "\n",
    "plt.ylim(-5, total_neurons)\n",
    "plt.xlim(150, total_time)\n",
    "plt.ylabel('Neuron index')\n",
    "plt.xlabel('Time (ms)')\n",
    "handles, labels = ax.get_legend_handles_labels()\n",
    "#handles[::-1], labels[::-1],\n",
    "plt.legend(markerscale=3, title='Preferred orientation\\n    for one position',\n",
    "           ncol=2)\n",
    "\n",
    "plt.title('''\n",
    "\n",
    "plt.savefig('./figs/2018_11_16_Ring_spikes_nosynapses.pdf', format = 'pdf', dpi = 200, bbox_inches = 'tight')\n",
    "            Mean population FR : %.2f Hz''' % (total_spikes/total_spiking_neurons))\n",
    "plt.show()"
   ]
  },
  {
   "cell_type": "code",
   "execution_count": null,
   "metadata": {
    "ExecuteTime": {
     "end_time": "2018-11-19T17:30:32.022165Z",
     "start_time": "2018-11-19T17:30:32.020082Z"
    }
   },
   "outputs": [],
   "source": [
    "print('Total spikes : ', total_spikes)\n",
    "print('Total spiking neurons : ', total_spiking_neurons)\n",
    "print('Mean population FR : %.2f Hz' % (total_spikes/total_spiking_neurons))"
   ]
  },
  {
   "cell_type": "markdown",
   "metadata": {},
   "source": [
    "# C'est mieux mais on peut faire ça par orientation plutot que par position\n",
    "Ca nous donnera un plus joli rasterplot et une meilleure information sur ce que le réseau représente en terme d'information orientée"
   ]
  },
  {
   "cell_type": "code",
   "execution_count": null,
   "metadata": {
    "ExecuteTime": {
     "end_time": "2018-11-19T17:30:32.025848Z",
     "start_time": "2018-11-19T17:30:32.023265Z"
    }
   },
   "outputs": [],
   "source": [
    "test_arr = load_arr.copy()\n",
    "\n",
    "print('Swapped array shape', test_arr.shape)\n",
    "total_neurons = test_arr.shape[0] * test_arr.shape[1]\n",
    "print('Total V1 Ring Neurons :', total_neurons)"
   ]
  },
  {
   "cell_type": "code",
   "execution_count": null,
   "metadata": {
    "ExecuteTime": {
     "end_time": "2018-11-19T17:31:47.615620Z",
     "start_time": "2018-11-19T17:30:32.027015Z"
    },
    "scrolled": true
   },
   "outputs": [],
   "source": [
    "##########\n",
    "# Params #\n",
    "##########\n",
    "neuron_params = {'cm': .5, #nF - McCormick\n",
    "                 'e_rev_E': 0.0, #mV - McCormick but default values\n",
    "                 'e_rev_I': -70.0, #mV - McCormick but default values\n",
    "                 'tau_m': 30, #ms - Markram\n",
    "                 'tau_refrac': 1.5, #ms - McCormick\n",
    "                 'tau_syn_E': 0.25, #ms -McCormick\n",
    "                 'tau_syn_I': 0.75, #ms - McCormick\n",
    "                 'v_reset': -56.5, #mV - McCormick\n",
    "                 'v_rest': -73.6, #mV - McCormick\n",
    "                 'v_thresh': -52.5 #mV - McCormick #mV - McCormick\n",
    "                    }\n",
    "\n",
    "gain = .1\n",
    "injection_sampling_rate = 1\n",
    "total_time = 1000\n",
    "\n",
    "current_times = np.linspace(0,total_time,total_time/injection_sampling_rate)\n",
    "\n",
    "sim.setup(timestep=0.1)\n",
    "simple_cells = sim.Population(total_neurons, sim.IF_cond_alpha(**neuron_params),\n",
    "                        initial_values={\"v\": neuron_params[\"v_reset\"]}, label=\"simple_cells\")\n",
    "\n",
    "neuron_iterator = 0\n",
    "\n",
    "with tqdm(total = total_neurons, desc = 'LGN is communicating with V1') as progress_bar :\n",
    "    for positions in test_arr: #WRONG VARIABLE NAME but it works the same nonetheless\n",
    "        for orientations in positions :\n",
    "            #injecting all ON LGN current\n",
    "            for inputs in orientations[0]:\n",
    "                current_level = inputs[::injection_sampling_rate]\n",
    "                current_level = np.asarray(current_level)\n",
    "\n",
    "                current_input = sim.StepCurrentSource(times = current_times,\n",
    "                                                 amplitudes = current_level*gain)\n",
    "                current_input.inject_into(simple_cells[neuron_iterator:neuron_iterator+1])\n",
    "                current_input.record()\n",
    "                \n",
    "            #injecting all OFF LGN current\n",
    "            for inputs in orientations[1]:\n",
    "                current_level = inputs[::injection_sampling_rate]\n",
    "                current_level = np.asarray(current_level)\n",
    "\n",
    "                current_input = sim.StepCurrentSource(times = current_times,\n",
    "                                                 amplitudes = current_level*gain)\n",
    "                current_input.inject_into(simple_cells[neuron_iterator:neuron_iterator+1])\n",
    "                current_input.record()\n",
    "                \n",
    "            #moving on to next V1 neuron \n",
    "            neuron_iterator +=1\n",
    "            progress_bar.update(1)\n",
    "            \n",
    "simple_cells.record(['spikes', 'v'])\n",
    "sim.run(total_time)\n",
    "sim.end()"
   ]
  },
  {
   "cell_type": "code",
   "execution_count": null,
   "metadata": {
    "ExecuteTime": {
     "end_time": "2018-11-19T17:31:47.616169Z",
     "start_time": "2018-11-19T17:29:12.573Z"
    }
   },
   "outputs": [],
   "source": [
    "v1_data = simple_cells.get_data().segments[0]\n",
    "v1_voltage = v1_data.analogsignals[0]"
   ]
  },
  {
   "cell_type": "markdown",
   "metadata": {},
   "source": [
    "Same idea as before, we have"
   ]
  },
  {
   "cell_type": "code",
   "execution_count": null,
   "metadata": {
    "ExecuteTime": {
     "end_time": "2018-11-19T17:31:47.616987Z",
     "start_time": "2018-11-19T17:29:12.576Z"
    }
   },
   "outputs": [],
   "source": [
    "test_arr.shape[0]"
   ]
  },
  {
   "cell_type": "markdown",
   "metadata": {},
   "source": [
    "orientations, and within "
   ]
  },
  {
   "cell_type": "code",
   "execution_count": null,
   "metadata": {
    "ExecuteTime": {
     "end_time": "2018-11-19T17:31:47.617587Z",
     "start_time": "2018-11-19T17:29:12.578Z"
    }
   },
   "outputs": [],
   "source": [
    "test_arr.shape[1]"
   ]
  },
  {
   "cell_type": "markdown",
   "metadata": {},
   "source": [
    "positions, for a total of "
   ]
  },
  {
   "cell_type": "code",
   "execution_count": null,
   "metadata": {
    "ExecuteTime": {
     "end_time": "2018-11-19T17:31:47.618273Z",
     "start_time": "2018-11-19T17:29:12.579Z"
    }
   },
   "outputs": [],
   "source": [
    "test_arr.shape[0] * test_arr.shape[1]"
   ]
  },
  {
   "cell_type": "markdown",
   "metadata": {
    "ExecuteTime": {
     "end_time": "2018-11-19T15:56:23.408506Z",
     "start_time": "2018-11-19T15:56:23.401558Z"
    }
   },
   "source": [
    "neurons, so everything works once again. We know plot for orientations, not for positions"
   ]
  },
  {
   "cell_type": "code",
   "execution_count": null,
   "metadata": {
    "ExecuteTime": {
     "end_time": "2018-11-19T17:31:47.618855Z",
     "start_time": "2018-11-19T17:29:12.581Z"
    }
   },
   "outputs": [],
   "source": [
    "#NEO's arrays are weirdly shaped, we have to transpose them\n",
    "fig, ax = plt.subplots(figsize = (16,10))\n",
    "colors = plt.cm.winter(np.linspace(.1, 1, 25))\n",
    "\n",
    "neuron_iterator = 0\n",
    "orientation = 3\n",
    "\n",
    "for positions in test_arr[orientation]:\n",
    "    index = neuron_iterator + (orientation * test_arr.shape[0]) #we're skipping the other positions\n",
    "\n",
    "    ax.plot(v1_voltage.T[index],\n",
    "            color=colors[neuron_iterator],\n",
    "            alpha = 1)\n",
    "        \n",
    "    for spikes in np.asarray(v1_data.spiketrains[index]):\n",
    "        plt.plot([ spikes*10,spikes*10 ] , [v1_voltage.T[index][int(spikes)] , 20],\n",
    "        color=colors[neuron_iterator])\n",
    "\n",
    "    neuron_iterator +=1\n",
    "\n",
    "\n",
    "plt.title(\"C'est encore une fois joli mais toujours pas très informatif\")\n",
    "plt.show()"
   ]
  },
  {
   "cell_type": "code",
   "execution_count": null,
   "metadata": {
    "ExecuteTime": {
     "end_time": "2018-11-19T17:31:47.619533Z",
     "start_time": "2018-11-19T17:29:12.584Z"
    },
    "scrolled": false
   },
   "outputs": [],
   "source": [
    "fig, ax = plt.subplots(figsize=(12, 8))\n",
    "colors = plt.cm.Blues(np.linspace(.4, 1, 12))\n",
    "\n",
    "neuron_iterator = 0\n",
    "total_spikes, total_spiking_neurons = 0, 0\n",
    "\n",
    "for i,orientations in enumerate(test_arr):\n",
    "    for positions in orientations:\n",
    "        ax.scatter(v1_data.spiketrains[neuron_iterator],\n",
    "                   np.full_like(v1_data.spiketrains[neuron_iterator], neuron_iterator),\n",
    "                   s=2, color=colors[i],\n",
    "                   label='%.1f°' % (i*(np.pi/12)*180/np.pi) if neuron_iterator%25 ==0 else '')\n",
    "        \n",
    "        total_spikes += len(v1_data.spiketrains[neuron_iterator])\n",
    "        if len(v1_data.spiketrains[neuron_iterator]) > 0:\n",
    "            total_spiking_neurons += 1\n",
    "        neuron_iterator += 1\n",
    "\n",
    "plt.ylim(-5, total_neurons)\n",
    "plt.xlim(150, total_time)\n",
    "\n",
    "plt.ylabel('Neuron index')\n",
    "plt.xlabel('Time (ms)')\n",
    "handles, labels = ax.get_legend_handles_labels()\n",
    "#handles[::-1], labels[::-1],\n",
    "plt.legend(markerscale=3, title='Preferred orientation\\n    for one position',\n",
    "           ncol=2)\n",
    "\n",
    "plt.title('''\n",
    "            Mean population FR : %.2f Hz''' % (total_spikes/total_spiking_neurons))\n",
    "\n",
    "plt.savefig('./figs/2018_11_16_Ring_spikes_nosynapses_orientation.pdf', format = 'pdf', dpi = 200, bbox_inches = 'tight')\n",
    "plt.show()"
   ]
  },
  {
   "cell_type": "code",
   "execution_count": null,
   "metadata": {},
   "outputs": [],
   "source": []
  }
 ],
 "metadata": {
  "kernelspec": {
   "display_name": "Python 3",
   "language": "python",
   "name": "python3"
  },
  "language_info": {
   "codemirror_mode": {
    "name": "ipython",
    "version": 3
   },
   "file_extension": ".py",
   "mimetype": "text/x-python",
   "name": "python",
   "nbconvert_exporter": "python",
   "pygments_lexer": "ipython3",
   "version": "3.7.1"
  },
  "toc": {
   "base_numbering": 1,
   "nav_menu": {},
   "number_sections": true,
   "sideBar": true,
   "skip_h1_title": false,
   "title_cell": "Table of Contents",
   "title_sidebar": "Contents",
   "toc_cell": false,
   "toc_position": {},
   "toc_section_display": true,
   "toc_window_display": false
  }
 },
 "nbformat": 4,
 "nbformat_minor": 2
}
